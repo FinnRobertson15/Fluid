{
 "cells": [
  {
   "cell_type": "code",
   "execution_count": 1,
   "id": "fea6824e",
   "metadata": {},
   "outputs": [
    {
     "name": "stderr",
     "output_type": "stream",
     "text": [
      "<frozen importlib._bootstrap>:488: RuntimeWarning: Your system is avx2 capable but pygame was not built with support for it. The performance of some of your blits could be adversely affected. Consider enabling compile time detection with environment variables like PYGAME_DETECT_AVX2=1 if you are compiling without cross compilation.\n"
     ]
    },
    {
     "name": "stdout",
     "output_type": "stream",
     "text": [
      "pygame 2.6.1 (SDL 2.32.54, Python 3.12.9)\n",
      "Hello from the pygame community. https://www.pygame.org/contribute.html\n"
     ]
    },
    {
     "name": "stderr",
     "output_type": "stream",
     "text": [
      "c:\\Users\\finnr\\.conda\\envs\\erosion\\Lib\\site-packages\\pygame\\pkgdata.py:25: UserWarning: pkg_resources is deprecated as an API. See https://setuptools.pypa.io/en/latest/pkg_resources.html. The pkg_resources package is slated for removal as early as 2025-11-30. Refrain from using this package or pin to Setuptools<81.\n",
      "  from pkg_resources import resource_stream, resource_exists\n"
     ]
    }
   ],
   "source": [
    "import pygame\n",
    "import time\n",
    "import numpy as np\n",
    "from Fluid import Fluid"
   ]
  },
  {
   "cell_type": "code",
   "execution_count": 2,
   "id": "c20d04ed",
   "metadata": {},
   "outputs": [
    {
     "name": "stderr",
     "output_type": "stream",
     "text": [
      "C:\\Users\\finnr\\AppData\\Local\\Temp\\ipykernel_18156\\449219668.py:89: RuntimeWarning: invalid value encountered in cast\n",
      "  rgb_np = rgb.detach().cpu().numpy().astype(np.uint8)\n"
     ]
    }
   ],
   "source": [
    "import pygame\n",
    "import numpy as np\n",
    "import time\n",
    "import torch\n",
    "\n",
    "def run_interactive_fluid_simulation(fluid, window_size=512, target_fps=60):\n",
    "    pygame.init()\n",
    "    \n",
    "    # Create display\n",
    "    screen = pygame.display.set_mode((window_size, window_size))\n",
    "    pygame.display.set_caption('Interactive Fluid Simulation - Click and drag!')\n",
    "    clock = pygame.time.Clock()\n",
    "    font = pygame.font.Font(None, 36)\n",
    "    \n",
    "    running = True\n",
    "    last_time = time.time()\n",
    "    mouse_pressed = False\n",
    "    last_mouse_pos = None\n",
    "    \n",
    "    # For adding forces\n",
    "    force_strength = 5000.0\n",
    "    \n",
    "    while running:\n",
    "        # Handle events\n",
    "        for event in pygame.event.get():\n",
    "            if event.type == pygame.QUIT:\n",
    "                running = False\n",
    "            elif event.type == pygame.KEYDOWN:\n",
    "                if event.key == pygame.K_q or event.key == pygame.K_ESCAPE:\n",
    "                    running = False\n",
    "                elif event.key == pygame.K_r:\n",
    "                    # Reset simulation\n",
    "                    fluid.u.zero_()\n",
    "                    fluid.v.zero_()\n",
    "                    fluid.p.zero_()\n",
    "                    fluid.m.fill_(1.0)\n",
    "            elif event.type == pygame.MOUSEBUTTONDOWN:\n",
    "                if event.button == 1:  # Left mouse button\n",
    "                    mouse_pressed = True\n",
    "                    last_mouse_pos = pygame.mouse.get_pos()\n",
    "            elif event.type == pygame.MOUSEBUTTONUP:\n",
    "                if event.button == 1:\n",
    "                    mouse_pressed = False\n",
    "                    last_mouse_pos = None\n",
    "            elif event.type == pygame.MOUSEMOTION:\n",
    "                if mouse_pressed and last_mouse_pos:\n",
    "                    current_pos = pygame.mouse.get_pos()\n",
    "                    \n",
    "                    # Convert screen coordinates to fluid grid coordinates\n",
    "                    grid_x = int((current_pos[0] / window_size) * fluid.n)\n",
    "                    grid_y = int((current_pos[1] / window_size) * fluid.n)\n",
    "                    last_grid_x = int((last_mouse_pos[0] / window_size) * fluid.n)\n",
    "                    last_grid_y = int((last_mouse_pos[1] / window_size) * fluid.n)\n",
    "                    \n",
    "                    # Calculate mouse velocity\n",
    "                    dx = grid_x - last_grid_x\n",
    "                    dy = grid_y - last_grid_y\n",
    "                    \n",
    "                    # Add force to fluid\n",
    "                    if 0 <= grid_x < fluid.n and 0 <= grid_y < fluid.n:\n",
    "                        radius = 3  # Radius of influence\n",
    "                        for i in range(max(0, grid_x - radius), min(fluid.n, grid_x + radius + 1)):\n",
    "                            for j in range(max(0, grid_y - radius), min(fluid.n, grid_y + radius + 1)):\n",
    "                                distance = ((i - grid_x)**2 + (j - grid_y)**2)**0.5\n",
    "                                if distance <= radius:\n",
    "                                    strength = (1 - distance / radius) * force_strength\n",
    "                                    fluid.u[i, j] += dx * strength\n",
    "                                    fluid.v[i, j] += dy * strength\n",
    "                    \n",
    "                    last_mouse_pos = current_pos\n",
    "        \n",
    "        # Calculate dt\n",
    "        current_time = time.time()\n",
    "        dt = current_time - last_time\n",
    "        last_time = current_time\n",
    "        \n",
    "        # Limit dt to prevent instability\n",
    "        dt = min(dt, 1.0/target_fps)\n",
    "        \n",
    "        # Fluid simulation step\n",
    "        fluid.integrate(dt)\n",
    "        fluid.solveIncompressibility(dt)\n",
    "        fluid.advectVel(dt)\n",
    "        fluid.advectSmoke(dt)\n",
    "        \n",
    "\n",
    "        # Render\n",
    "        rgb = fluid.render()\n",
    "        rgb_np = rgb.detach().cpu().numpy().astype(np.uint8)\n",
    "        \n",
    "        # Convert to pygame surface\n",
    "        rgb_transposed = np.transpose(rgb_np, (1, 0, 2))\n",
    "        surface = pygame.surfarray.make_surface(rgb_transposed)\n",
    "        \n",
    "        # Scale to window size\n",
    "        scaled_surface = pygame.transform.scale(surface, (window_size, window_size))\n",
    "        \n",
    "        # Blit to screen\n",
    "        screen.blit(scaled_surface, (0, 0))\n",
    "        \n",
    "        # Add instructions\n",
    "        fps_text = font.render(f'FPS: {clock.get_fps():.1f}', True, (255, 255, 255))\n",
    "        instruction_text = font.render('Click and drag to add forces, R to reset', True, (255, 255, 255))\n",
    "        \n",
    "        screen.blit(fps_text, (10, 10))\n",
    "        screen.blit(instruction_text, (10, window_size - 30))\n",
    "        \n",
    "        pygame.display.flip()\n",
    "        \n",
    "        # Maintain target framerate\n",
    "        clock.tick(target_fps)\n",
    "    \n",
    "    pygame.quit()\n",
    "\n",
    "# Usage\n",
    "n = 128\n",
    "fluid = Fluid(n, numIters=25, boundaries=False)\n",
    "run_interactive_fluid_simulation(fluid, window_size=512, target_fps=60)"
   ]
  },
  {
   "cell_type": "code",
   "execution_count": null,
   "id": "5b0ac1b3",
   "metadata": {},
   "outputs": [],
   "source": []
  }
 ],
 "metadata": {
  "kernelspec": {
   "display_name": "Python 3",
   "language": "python",
   "name": "python3"
  },
  "language_info": {
   "codemirror_mode": {
    "name": "ipython",
    "version": 3
   },
   "file_extension": ".py",
   "mimetype": "text/x-python",
   "name": "python",
   "nbconvert_exporter": "python",
   "pygments_lexer": "ipython3",
   "version": "3.12.9"
  }
 },
 "nbformat": 4,
 "nbformat_minor": 5
}
